{
 "cells": [
  {
   "cell_type": "code",
   "execution_count": 62,
   "metadata": {},
   "outputs": [],
   "source": [
    "import feedparser\n",
    "import requests\n",
    "import json\n",
    "import pymongo\n",
    "import requests"
   ]
  },
  {
   "cell_type": "code",
   "execution_count": 26,
   "metadata": {},
   "outputs": [],
   "source": [
    "dbClient = pymongo.MongoClient(\"mongodb+srv://<USERNAME>:<PASSWORD>@<CLUSTER>.mongodb.net/test?retryWrites=true\")"
   ]
  },
  {
   "cell_type": "code",
   "execution_count": 27,
   "metadata": {},
   "outputs": [],
   "source": [
    "# Use amazon DB on MongoDB Atlas:\n",
    "def connectToDB(dbName = 'feed', collectionName = 'entry'):\n",
    "    connectionMessage = '';\n",
    "    #dbClient.get_database(dbName)\n",
    "    db = dbClient.get_database(dbName)\n",
    "    if db != None:\n",
    "        collection = db.get_collection(collectionName)\n",
    "        if collection != None:\n",
    "            print(\"Successfully connected to the collection: \" + collectionName)\n",
    "        else:\n",
    "            print(\"Couldn't connect to the collection: \" +collectionName)\n",
    "    else:\n",
    "        print(\"Couldn't connect to the database: \" + dbName)\n",
    "    return collection"
   ]
  },
  {
   "cell_type": "code",
   "execution_count": 76,
   "metadata": {},
   "outputs": [],
   "source": [
    "def hasNewPost(url):\n",
    "    title, link = getLatestBlogPost(url)\n",
    "    if collection.find_one({'title': title}):\n",
    "        return \"No new posts!\"\n",
    "    else:\n",
    "        sendToSlack(title, link)\n",
    "        saveToDB(title, link)\n",
    "        return \"New post!\""
   ]
  },
  {
   "cell_type": "code",
   "execution_count": 51,
   "metadata": {},
   "outputs": [],
   "source": [
    "def getLatestBlogPost(url):\n",
    "    feed = feedparser.parse(url)\n",
    "    return feed.entries[0]['title'],feed.entries[0]['link']"
   ]
  },
  {
   "cell_type": "code",
   "execution_count": 52,
   "metadata": {},
   "outputs": [],
   "source": [
    "def saveToDB(title, link):\n",
    "    jsonData = {'title': title, 'link': link}\n",
    "    collectionMsg = collection.insert_one(jsonData)\n",
    "    return collectionMsg"
   ]
  },
  {
   "cell_type": "code",
   "execution_count": 80,
   "metadata": {},
   "outputs": [],
   "source": [
    "def sendToSlack(title, link):\n",
    "    webHookUrl = 'https://hooks.slack.com/services/<WEBHOOKLINK>'\n",
    "    headers = {'Content-Type': 'application/json',}\n",
    "    payload = \"{0}: {1}\".format(title, link)\n",
    "    res = requests.post(url=webHookUrl, data= json.dumps({\"text\": payload,}), headers = headers);\n",
    "    if res.status_code == requests.status_codes.codes.OK:\n",
    "        return True"
   ]
  },
  {
   "cell_type": "code",
   "execution_count": 34,
   "metadata": {},
   "outputs": [],
   "source": [
    "collection = connectToDB()"
   ]
  },
  {
   "cell_type": "code",
   "execution_count": 81,
   "metadata": {},
   "outputs": [
    {
     "name": "stdout",
     "output_type": "stream",
     "text": [
      "New post!\n"
     ]
    }
   ],
   "source": [
    "print(hasNewPost('http://karpathy.github.io/feed.xml'))"
   ]
  },
  {
   "cell_type": "code",
   "execution_count": 71,
   "metadata": {},
   "outputs": [],
   "source": []
  },
  {
   "cell_type": "code",
   "execution_count": 72,
   "metadata": {},
   "outputs": [],
   "source": []
  },
  {
   "cell_type": "code",
   "execution_count": null,
   "metadata": {},
   "outputs": [],
   "source": []
  },
  {
   "cell_type": "code",
   "execution_count": 69,
   "metadata": {},
   "outputs": [],
   "source": []
  },
  {
   "cell_type": "code",
   "execution_count": null,
   "metadata": {},
   "outputs": [],
   "source": []
  }
 ],
 "metadata": {
  "kernelspec": {
   "display_name": "Python 3",
   "language": "python",
   "name": "python3"
  },
  "language_info": {
   "codemirror_mode": {
    "name": "ipython",
    "version": 3
   },
   "file_extension": ".py",
   "mimetype": "text/x-python",
   "name": "python",
   "nbconvert_exporter": "python",
   "pygments_lexer": "ipython3",
   "version": "3.7.1"
  }
 },
 "nbformat": 4,
 "nbformat_minor": 2
}
